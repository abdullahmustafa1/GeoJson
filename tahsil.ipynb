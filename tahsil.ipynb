{
 "cells": [
  {
   "cell_type": "code",
   "execution_count": 4,
   "metadata": {},
   "outputs": [
    {
     "name": "stdout",
     "output_type": "stream",
     "text": [
      "Files found:\n",
      "/Users/kms/Documents/GitHub/GeoJson/DataJSON/Tehsil/Bhowana_Tehsil_CHN.json\n",
      "/Users/kms/Documents/GitHub/GeoJson/DataJSON/Tehsil/Hafizabad_Tehsil_HFZ.json\n",
      "/Users/kms/Documents/GitHub/GeoJson/DataJSON/Tehsil/Chiniot_Tehsil_CHN.json\n",
      "/Users/kms/Documents/GitHub/GeoJson/DataJSON/Tehsil/Gojra_Tehsil_TTS.json\n",
      "/Users/kms/Documents/GitHub/GeoJson/DataJSON/Tehsil/Pindi Bhattian_Tehsil_HFZ.json\n",
      "/Users/kms/Documents/GitHub/GeoJson/DataJSON/Tehsil/18 Hazari_Tehsil_JHG.json\n",
      "/Users/kms/Documents/GitHub/GeoJson/DataJSON/Tehsil/Lalain_Tehsil_CHN.json\n",
      "/Users/kms/Documents/GitHub/GeoJson/DataJSON/Tehsil/Ahmed Pur Sial_Tehsil_JHG.json\n",
      "/Users/kms/Documents/GitHub/GeoJson/DataJSON/Tehsil/TTSingh_Tehsil_TTS.json\n",
      "/Users/kms/Documents/GitHub/GeoJson/DataJSON/Tehsil/Shorkot_Tehsil_JHG.json\n",
      "/Users/kms/Documents/GitHub/GeoJson/DataJSON/Tehsil/Jhang_Tehsil_JHG.json\n",
      "/Users/kms/Documents/GitHub/GeoJson/DataJSON/Tehsil/Kamalia_Tehsil_TTS.json\n"
     ]
    }
   ],
   "source": [
    "import os\n",
    "\n",
    "def list_all_files_in_folder(folder_path):\n",
    "    all_files = []\n",
    "    for root, dirs, files in os.walk(folder_path):\n",
    "        for file in files:\n",
    "            all_files.append(os.path.join(root, file))\n",
    "    return all_files\n",
    "\n",
    "# Folder path where you want to list the files\n",
    "folder_path = '/Users/kms/Documents/GitHub/GeoJson/DataJSON/Tehsil'\n",
    "\n",
    "# List all files\n",
    "all_files = list_all_files_in_folder(folder_path)\n",
    "\n",
    "# Print the files\n",
    "if all_files:\n",
    "    print(\"Files found:\")\n",
    "    for file in all_files:\n",
    "        print(file)\n",
    "else:\n",
    "    print(\"No files found.\")\n"
   ]
  },
  {
   "cell_type": "code",
   "execution_count": null,
   "metadata": {},
   "outputs": [],
   "source": []
  }
 ],
 "metadata": {
  "kernelspec": {
   "display_name": "Python 3",
   "language": "python",
   "name": "python3"
  },
  "language_info": {
   "codemirror_mode": {
    "name": "ipython",
    "version": 3
   },
   "file_extension": ".py",
   "mimetype": "text/x-python",
   "name": "python",
   "nbconvert_exporter": "python",
   "pygments_lexer": "ipython3",
   "version": "3.9.6"
  }
 },
 "nbformat": 4,
 "nbformat_minor": 2
}
